{
 "cells": [
  {
   "cell_type": "markdown",
   "metadata": {},
   "source": [
    "# Finding math that breaks **sympy.parsing.latex.parse_latex**\n",
    "\n",
    "Based on some [feedback on this PR](https://github.com/sympy/sympy/pull/13706#issuecomment-359944477), \n",
    "let's look at some semi-automated ways to test $\\LaTeX$ parsing in `sympy`. \n",
    "\n",
    "Roughly, we'll:\n",
    "- Generate some basic [`hypothesis`](http://hypothesis.works/) strategies for expressions from the `sympy` code base\n",
    "- Generate some more complex strategies with some custom code\n",
    "- Test ability to even print with `sympy.printing.latex.latex`\n",
    "- Test with sources of truth\n",
    "- Find some examples that break current parsing behavior!\n",
    "- Bonus: some other strategies"
   ]
  },
  {
   "cell_type": "code",
   "execution_count": null,
   "metadata": {},
   "outputs": [],
   "source": [
    "import operator as ops\n",
    "from tempfile import mkdtemp\n",
    "import subprocess\n",
    "import os\n",
    "import shutil\n",
    "import re\n",
    "\n",
    "import attr\n",
    "\n",
    "from hypothesis import given, assume, settings, strategies as st\n",
    "from IPython import display\n",
    "\n",
    "import sympy as S\n",
    "from sympy.parsing.latex import parse_latex"
   ]
  },
  {
   "cell_type": "code",
   "execution_count": null,
   "metadata": {},
   "outputs": [],
   "source": [
    "parse_latex(\"A\")"
   ]
  },
  {
   "cell_type": "code",
   "execution_count": null,
   "metadata": {},
   "outputs": [],
   "source": [
    "!rm -rf .hypothesis/"
   ]
  },
  {
   "cell_type": "code",
   "execution_count": null,
   "metadata": {},
   "outputs": [],
   "source": [
    "def examples(*strategies):\n",
    "    try:\n",
    "        for strategy in strategies:\n",
    "            strat = strategy\n",
    "            try: strat = strategy()\n",
    "            except: pass\n",
    "            print(strategy)\n",
    "            print({strat.example() for i in range(10)})\n",
    "    except Exception as err:\n",
    "        print(err)"
   ]
  },
  {
   "cell_type": "code",
   "execution_count": null,
   "metadata": {},
   "outputs": [],
   "source": [
    "examples(st.text)"
   ]
  },
  {
   "cell_type": "markdown",
   "metadata": {},
   "source": [
    "## Some Basic Strategies\n",
    "The simple strategies, `sampled_from` and `from_regex` provide a lot\n",
    "of value when we know a fair amount about the structure."
   ]
  },
  {
   "cell_type": "code",
   "execution_count": null,
   "metadata": {},
   "outputs": [],
   "source": [
    "numeric_expressions = None"
   ]
  },
  {
   "cell_type": "code",
   "execution_count": null,
   "metadata": {},
   "outputs": [],
   "source": [
    "variable_names = st.from_regex(re.compile(r\"\\A[a-z]\\Z\", re.IGNORECASE))\n",
    "examples(variable_names)"
   ]
  },
  {
   "cell_type": "code",
   "execution_count": null,
   "metadata": {},
   "outputs": [],
   "source": [
    "_numeric_unary_ops = st.sampled_from([\n",
    "    S.sin, S.tan, S.cos, S.acos, S.sec, S.acos, S.atan, S.asec, S.Abs,\n",
    "    S.sqrt, S.factorial,\n",
    "])\n",
    "examples(_numeric_unary_ops)"
   ]
  },
  {
   "cell_type": "code",
   "execution_count": null,
   "metadata": {},
   "outputs": [],
   "source": [
    "_numeric_binary_ops = st.sampled_from([\n",
    "    ops.add, ops.sub, ops.mul, ops.pow, ops.truediv,\n",
    "    S.root, S.Derivative\n",
    "])\n",
    "examples(_numeric_binary_ops)"
   ]
  },
  {
   "cell_type": "code",
   "execution_count": null,
   "metadata": {},
   "outputs": [],
   "source": [
    "_numeric_trinary_ops = st.sampled_from([\n",
    "    S.Limit,\n",
    "])\n",
    "examples(_numeric_trinary_ops)"
   ]
  },
  {
   "cell_type": "code",
   "execution_count": null,
   "metadata": {},
   "outputs": [],
   "source": [
    "_comparators = st.sampled_from([\n",
    "    ops.gt, ops.ge, ops.lt, ops.le, ops.eq, ops.ne\n",
    "])\n",
    "examples(_comparators)"
   ]
  },
  {
   "cell_type": "code",
   "execution_count": null,
   "metadata": {},
   "outputs": [],
   "source": [
    "@st.composite\n",
    "def symbols(draw, name=variable_names):\n",
    "    return S.Symbol(draw(name))\n",
    "examples(symbols)"
   ]
  },
  {
   "cell_type": "code",
   "execution_count": null,
   "metadata": {},
   "outputs": [],
   "source": [
    "@st.composite\n",
    "def floats(draw):\n",
    "    f = draw(st.floats())\n",
    "    prec = draw(st.integers())\n",
    "    try:\n",
    "        return S.Float(f, prec)\n",
    "    except:\n",
    "        assume(False)\n",
    "examples(floats)"
   ]
  },
  {
   "cell_type": "markdown",
   "metadata": {},
   "source": [
    "## Simple functions"
   ]
  },
  {
   "cell_type": "code",
   "execution_count": null,
   "metadata": {},
   "outputs": [],
   "source": [
    "@st.composite\n",
    "def numeric_unary_expressions(draw):\n",
    "    op = draw(_numeric_binary_ops)\n",
    "    a = draw(numeric_expressions)\n",
    "    \n",
    "    try:\n",
    "        return op(a)\n",
    "    except:\n",
    "        assume(False)"
   ]
  },
  {
   "cell_type": "code",
   "execution_count": null,
   "metadata": {},
   "outputs": [],
   "source": [
    "examples(numeric_unary_expressions)"
   ]
  },
  {
   "cell_type": "markdown",
   "metadata": {},
   "source": [
    "## Common two-argument functions"
   ]
  },
  {
   "cell_type": "code",
   "execution_count": null,
   "metadata": {},
   "outputs": [],
   "source": [
    "@st.composite\n",
    "def numeric_binary_expressions(draw):\n",
    "    op = draw(_numeric_binary_ops)\n",
    "    a = draw(numeric_expressions)\n",
    "    b = draw(numeric_expressions)\n",
    "    \n",
    "    try:\n",
    "        return op(a, b, c)\n",
    "    except:\n",
    "        assume(False)"
   ]
  },
  {
   "cell_type": "code",
   "execution_count": null,
   "metadata": {},
   "outputs": [],
   "source": [
    "examples(numeric_binary_expressions)"
   ]
  },
  {
   "cell_type": "markdown",
   "metadata": {},
   "source": [
    "## Three-argument functions"
   ]
  },
  {
   "cell_type": "code",
   "execution_count": null,
   "metadata": {},
   "outputs": [],
   "source": [
    "@st.composite\n",
    "def numeric_trinary_expressions(draw):\n",
    "    expr = None\n",
    "    op = draw(_numeric_trinary_ops)\n",
    "    a = draw(numeric_expressions)\n",
    "    b = draw(numeric_expressions)\n",
    "    c = draw(numeric_expressions)\n",
    "    \n",
    "    try:\n",
    "        return op(a, b, c)\n",
    "    except:\n",
    "        assume(False)"
   ]
  },
  {
   "cell_type": "code",
   "execution_count": null,
   "metadata": {},
   "outputs": [],
   "source": [
    "examples(numeric_trinary_expressions)"
   ]
  },
  {
   "cell_type": "markdown",
   "metadata": {},
   "source": [
    "## The `numeric_expressions`\n",
    "This is a high-level representation of a number-y thing, and is used frequently above. You can go back and try all of the examples that failed for various reasons"
   ]
  },
  {
   "cell_type": "code",
   "execution_count": null,
   "metadata": {},
   "outputs": [],
   "source": [
    "numeric_expressions = (\n",
    "    floats() \n",
    "    | symbols() \n",
    "    | numeric_unary_expressions() \n",
    "    | numeric_binary_expressions()\n",
    "    | numeric_trinary_expressions()\n",
    ")"
   ]
  },
  {
   "cell_type": "markdown",
   "metadata": {},
   "source": [
    "## Relational expressions"
   ]
  },
  {
   "cell_type": "code",
   "execution_count": null,
   "metadata": {},
   "outputs": [],
   "source": [
    "@st.composite\n",
    "def relational_expressions(draw):\n",
    "    expr = None\n",
    "    try:\n",
    "        expr = draw(_comparators)(draw(numeric_expressions), draw(numeric_expressions))\n",
    "    except:\n",
    "        pass\n",
    "    assume(expr is not None)\n",
    "    \n",
    "    return expr"
   ]
  },
  {
   "cell_type": "code",
   "execution_count": null,
   "metadata": {},
   "outputs": [],
   "source": [
    "examples(relational_expressions)"
   ]
  },
  {
   "cell_type": "markdown",
   "metadata": {},
   "source": [
    "## Expressions that don't fail **sympy.printing.latex.latex**\n",
    "\n",
    "The maturity of `sympy.printing.latex.latex` should be considered close to an (opinionated)\n",
    "production-grade typesetting approach.\n",
    "\n",
    "If it can't work with what we've built, we probably don't care to handle it yet.\n",
    "\n",
    "We also don't care about empty strings, for the time being.\n",
    "\n",
    "Note that this returns the `latex_str` so we don't have to recalculate it later."
   ]
  },
  {
   "cell_type": "code",
   "execution_count": null,
   "metadata": {},
   "outputs": [],
   "source": [
    "@st.composite\n",
    "def latex_printable_expressions(draw):\n",
    "    expr = draw(numeric_expressions | relational_expressions())\n",
    "    \n",
    "    latex_str = None\n",
    "    try:\n",
    "        latex_str = S.latex(expr)\n",
    "    except Exception as err:\n",
    "        pass\n",
    "    assume(latex_str is not None)\n",
    "    return (expr, latex_str)"
   ]
  },
  {
   "cell_type": "code",
   "execution_count": null,
   "metadata": {},
   "outputs": [],
   "source": [
    "examples(latex_printable_expressions)"
   ]
  },
  {
   "cell_type": "markdown",
   "metadata": {},
   "source": [
    "## Expressions that don't fail \"real\" `latex`\n",
    "The ultimate source of truth in $\\LaTeX$ parsing is a canonical `latex` distribution like `pdflatex` or `xelatex`. \n",
    "Because we can easily `display` PDF in Jupyter, we can use this, along with the `MathJax` representation \n",
    "for multiple verifications."
   ]
  },
  {
   "cell_type": "code",
   "execution_count": null,
   "metadata": {},
   "outputs": [],
   "source": [
    "class PointlessPDFWrapper(object):\n",
    "    def __init__(self, pdf):\n",
    "        self._pdf = pdf\n",
    "    def _repr_pdf_(self):\n",
    "        return self._pdf"
   ]
  },
  {
   "cell_type": "markdown",
   "metadata": {},
   "source": [
    "We need a very basic $\\LaTeX$ document in order to work with the command line tools."
   ]
  },
  {
   "cell_type": "code",
   "execution_count": null,
   "metadata": {},
   "outputs": [],
   "source": [
    "LATEX_DOC = r\"\"\"\n",
    "\\documentclass[a4paper]{article}\n",
    " \n",
    "\\begin{document}\n",
    "$$\n",
    "%s\n",
    "$$\n",
    "\\end{document}\n",
    "\"\"\""
   ]
  },
  {
   "cell_type": "code",
   "execution_count": null,
   "metadata": {},
   "outputs": [],
   "source": [
    "@st.composite\n",
    "def typesettable_expressions(draw):\n",
    "    expr, latex_str = draw(latex_printable_expressions())\n",
    "\n",
    "    tmpdir = mkdtemp()\n",
    "    tmp_tex_path = os.path.join(tmpdir, \"expr.tex\")\n",
    "    tmp_pdf_path = os.path.join(tmpdir, \"expr.pdf\")\n",
    "\n",
    "    success = None\n",
    "    pdf = None\n",
    "    try:\n",
    "        with open(tmp_tex_path, \"w+\") as fp:\n",
    "            fp.write(LATEX_DOC % latex_str)\n",
    "        subprocess.check_call([\n",
    "            \"pdflatex\",\n",
    "            tmp_tex_path\n",
    "        ], cwd=tmpdir)\n",
    "        with open(tmp_pdf_path, \"rb\") as fp:\n",
    "            pdf = PointlessPDFWrapper(fp.read())\n",
    "        success = True\n",
    "    except Exception as err:\n",
    "        pass\n",
    "    finally:\n",
    "        shutil.rmtree(tmpdir)\n",
    "    \n",
    "    assume(success)\n",
    "\n",
    "    return expr, latex_str, pdf"
   ]
  },
  {
   "cell_type": "code",
   "execution_count": null,
   "metadata": {},
   "outputs": [],
   "source": [
    "examples(typesettable_expressions)"
   ]
  },
  {
   "cell_type": "markdown",
   "metadata": {},
   "source": [
    "## The Test"
   ]
  },
  {
   "cell_type": "code",
   "execution_count": null,
   "metadata": {},
   "outputs": [],
   "source": [
    "@given(typesettable_expressions())\n",
    "def test_latex_roundtrip(expr_latex_pdf):\n",
    "    expr, latex_str, pdf = expr_latex_pdf\n",
    "    expr_parsed = None\n",
    "    err = None\n",
    "    assume(expr)\n",
    "    try:\n",
    "        expr_parsed = parse_latex(latex_str)\n",
    "    except Exception as err:\n",
    "        pass\n",
    "    if expr == expr_parsed:\n",
    "        return\n",
    "    raise ValueError([expr, expr_parsed, latex_str, pdf])"
   ]
  },
  {
   "cell_type": "markdown",
   "metadata": {},
   "source": [
    "## Run the Test"
   ]
  },
  {
   "cell_type": "code",
   "execution_count": null,
   "metadata": {},
   "outputs": [],
   "source": [
    "try:\n",
    "    test_latex_roundtrip()\n",
    "except ValueError as err:\n",
    "    expr, expr_parsed, latex_str, pdf = err.args[0]\n",
    "    print(expr)\n",
    "    for k, ex in {\"expr\": expr, \"parsed\": expr_parsed}.items():\n",
    "        display.display(display.Markdown(f\"### {k}\"))\n",
    "        print(ex.__class__.__mro__)\n",
    "        print(ex)\n",
    "    display.display(display.Markdown(\"### LaTeX Source\\n```latex\\n%s\\n```\" % latex_str))\n",
    "    display.display(display.Latex(\"$$ %s $$\" % latex_str))\n",
    "    display.display(pdf)"
   ]
  },
  {
   "cell_type": "markdown",
   "metadata": {},
   "source": [
    "### Having a look at `expr` & `parsed`"
   ]
  },
  {
   "cell_type": "code",
   "execution_count": null,
   "metadata": {},
   "outputs": [],
   "source": [
    "types = list(map(type, [expr, expr_parsed]))\n",
    "print(types)\n",
    "assert len(set(types)) == 1, \"they are not the same type\""
   ]
  },
  {
   "cell_type": "code",
   "execution_count": null,
   "metadata": {},
   "outputs": [],
   "source": [
    "assert expr == expr_parsed, \"they're not equal\""
   ]
  },
  {
   "cell_type": "code",
   "execution_count": null,
   "metadata": {},
   "outputs": [],
   "source": [
    "expr_parsed.atoms()"
   ]
  },
  {
   "cell_type": "code",
   "execution_count": null,
   "metadata": {},
   "outputs": [],
   "source": [
    "expr.atoms()"
   ]
  },
  {
   "cell_type": "code",
   "execution_count": null,
   "metadata": {},
   "outputs": [],
   "source": [
    "S.parsing.latex.parse_latex(\"A\")"
   ]
  },
  {
   "cell_type": "markdown",
   "metadata": {},
   "source": [
    "# Sir Not-Appearing-In-This-Tool"
   ]
  },
  {
   "cell_type": "markdown",
   "metadata": {},
   "source": [
    "Not using this for anything yet, but this will generate expressions that don't fail `.simplify`."
   ]
  },
  {
   "cell_type": "code",
   "execution_count": null,
   "metadata": {},
   "outputs": [],
   "source": [
    "@st.composite\n",
    "def simplifiable_expressions(draw):\n",
    "    expr = draw(numeric_expressions)\n",
    "    \n",
    "    success = None\n",
    "    try:\n",
    "        expr.simplify()\n",
    "        success = True\n",
    "    except Exception as err:\n",
    "        pass\n",
    "    finally:\n",
    "        assume(success)\n",
    "    return expr"
   ]
  }
 ],
 "metadata": {
  "kernelspec": {
   "display_name": "Python 3",
   "language": "python",
   "name": "python3"
  },
  "language_info": {
   "codemirror_mode": {
    "name": "ipython",
    "version": 3
   },
   "file_extension": ".py",
   "mimetype": "text/x-python",
   "name": "python",
   "nbconvert_exporter": "python",
   "pygments_lexer": "ipython3",
   "version": "3.6.4"
  }
 },
 "nbformat": 4,
 "nbformat_minor": 2
}
